{
 "cells": [
  {
   "cell_type": "code",
   "execution_count": 3,
   "metadata": {
    "collapsed": true
   },
   "outputs": [],
   "source": [
    "#this module encrypts the message the user enters\n",
    "\n",
    "def encrypt (plain_message, offset):\n",
    "\n",
    "    encrypted_message = ''\n",
    "\n",
    "    #Encrypting the plain message\n",
    "    for i in range(len(plain_message)):\n",
    "        if plain_message[i] == ' ':\n",
    "            encrypted_message += ' '\n",
    "        else:\n",
    "            encrypted_message += chr((ord(plain_message[i])-65 - offset)%26 + 65)\n",
    "\n",
    "    return encrypted_message"
   ]
  },
  {
   "cell_type": "code",
   "execution_count": 4,
   "metadata": {
    "collapsed": true
   },
   "outputs": [],
   "source": [
    "#Decrypting the Message\n",
    "def decrypt (encrypted_message, offset):\n",
    "\n",
    "    decrypted_message = ''\n",
    "    \n",
    "\n",
    "    #Encrypting the plain message\n",
    "    for i in range(len(encrypted_message)):\n",
    "        if encrypted_message[i] == ' ':\n",
    "            decrypted_message += ' '\n",
    "        else:\n",
    "            decrypted_message += chr((ord(encrypted_message[i])-65 + offset)%26 + 65)\n",
    "            \n",
    "    return decrypted_message"
   ]
  },
  {
   "cell_type": "code",
   "execution_count": 5,
   "metadata": {},
   "outputs": [
    {
     "name": "stdout",
     "output_type": "stream",
     "text": [
      "\n",
      "Shhhhh! Welcome ! Enter Your Message to Be Encrypted\n",
      "Make Sure No Other Eyes Are Looking. Shhhhh!\n",
      "\n",
      "\n",
      "What Do You Want to Do:\n",
      "1. Encrypt a Plain Message\n",
      "2. Decrypt an Encrypted Message\n",
      "3. Quit\n",
      "\n",
      "Operation: 1\n",
      "Your Plain Message to Be Encrypted, Here: the quick brown dog jumps over the lazy fox\n",
      "Please Enter the Offset For the Encryption: 3\n",
      "QEB NRFZH YOLTK ALD GRJMP LSBO QEB IXWV CLU\n",
      "\n",
      "Shhhhh! Welcome ! Enter Your Message to Be Encrypted\n",
      "Make Sure No Other Eyes Are Looking. Shhhhh!\n",
      "\n",
      "\n",
      "What Do You Want to Do:\n",
      "1. Encrypt a Plain Message\n",
      "2. Decrypt an Encrypted Message\n",
      "3. Quit\n",
      "\n",
      "Operation: 2\n",
      "Your Encrypted Message to Be Decrypted, Here: QEB NRFZH YOLTK ALD GRJMP LSBO QEB IXWV CLU\n",
      "Please Enter the Cipher Offset: 3\n",
      "THE QUICK BROWN DOG JUMPS OVER THE LAZY FOX\n",
      "\n",
      "Shhhhh! Welcome ! Enter Your Message to Be Encrypted\n",
      "Make Sure No Other Eyes Are Looking. Shhhhh!\n",
      "\n",
      "\n",
      "What Do You Want to Do:\n",
      "1. Encrypt a Plain Message\n",
      "2. Decrypt an Encrypted Message\n",
      "3. Quit\n",
      "\n",
      "Operation: 3\n"
     ]
    }
   ],
   "source": [
    "while True:\n",
    "    #Welcome the User\n",
    "    print('\\nShhhhh! Welcome ! Enter Your Message to Be Encrypted\\n'\n",
    "            'Make Sure No Other Eyes Are Looking. Shhhhh!\\n\\n\\n'\n",
    "            'What Do You Want to Do:\\n' \n",
    "            '1. Encrypt a Plain Message\\n' \n",
    "            '2. Decrypt an Encrypted Message\\n'\n",
    "            '3. Quit\\n')\n",
    "\n",
    "    action_selection = input('Operation: ')\n",
    "\n",
    "    if action_selection == '1':\n",
    "        #Requesting for message to be encrypted\n",
    "        plain_message = input('Your Plain Message to Be Encrypted, Here: ').upper()\n",
    "        offset = int(input('Please Enter the Offset For the Encryption: '))\n",
    "        print(encrypt(plain_message,offset))\n",
    "        \n",
    "    elif action_selection == '2':\n",
    "        #Requesting for message to be decrypted\n",
    "        encrypted_message = input('Your Encrypted Message to Be Decrypted, Here: ').upper()\n",
    "        offset = int(input('Please Enter the Cipher Offset: '))\n",
    "        print(decrypt(encrypted_message, offset))\n",
    "\n",
    "        #Quit the program\n",
    "    elif action_selection == '3':\n",
    "        break\n",
    "        \n",
    "        #Wrong Input\n",
    "    else:\n",
    "        print('It Seems You Have Entered a Wrong Input, Try Again')\n",
    "        continue"
   ]
  },
  {
   "cell_type": "code",
   "execution_count": null,
   "metadata": {
    "collapsed": true
   },
   "outputs": [],
   "source": []
  }
 ],
 "metadata": {
  "kernelspec": {
   "display_name": "Python 3",
   "language": "python",
   "name": "python3"
  },
  "language_info": {
   "codemirror_mode": {
    "name": "ipython",
    "version": 3
   },
   "file_extension": ".py",
   "mimetype": "text/x-python",
   "name": "python",
   "nbconvert_exporter": "python",
   "pygments_lexer": "ipython3",
   "version": "3.6.2"
  }
 },
 "nbformat": 4,
 "nbformat_minor": 2
}
